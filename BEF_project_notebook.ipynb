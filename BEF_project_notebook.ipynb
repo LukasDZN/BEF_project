{
 "cells": [
  {
   "cell_type": "markdown",
   "metadata": {},
   "source": [
    "# Risk-taking among students: Does age, gender or nationality matter?"
   ]
  },
  {
   "cell_type": "markdown",
   "metadata": {},
   "source": [
    "##### Analysis by Lukas Dzenkauskas\n",
    "###### 07/04/2020"
   ]
  },
  {
   "cell_type": "markdown",
   "metadata": {},
   "source": [
    "## Introduction"
   ]
  },
  {
   "cell_type": "markdown",
   "metadata": {},
   "source": [
    "A little while ago I got the hold of a dataset of my fellow behavioural and experimental finance course students which were asked to make a bet from 0 to 100 (imaginary) euros, with a 1/6 chance to win 8x the amount bet, for 15 periods. The budget for each period of betting is 100. Any amount that is not used for betting for each period is kept as a ‘winning’. Additionally, age, gender and nationality data was provided."
   ]
  },
  {
   "cell_type": "markdown",
   "metadata": {},
   "source": [
    "Given this data, I thought of a few questions that might be interesting to answer.\n",
    "It is often assumed that younger people are more impulsive and have tendency to take on more risks. But after all, the age of 18 to 22 is a time for significant personal growth and maturing. So, is it to possible observe a significant difference in the degree of risk taking in such a relatively short period of time? Let’s set the first null and alternative hypotheses: \n",
    "<br><i>Ho</i>: Age has no effect on the average bet amount.\n",
    "<br><i>Ha</i>: Older students will bet less on average.\n",
    "<p>\n",
    "Additionally, since the gender of each participant is available, we can look into the role it plays when faced with financial risk taking. Although this has been shown by numerous studies, we can try and replicate the results in a more specific context dataset. The hypotheses are as follows:\n",
    "<br><i>Ho</i>: Gender has no effect on the average bet amount.\n",
    "<br><i>Ha</i>: Women will choose to bet less on average than men.\n",
    "<p>\n",
    "And finally, we also have nationality. Although it only says whether the participant is Dutch or not, we can investigate if the pragmatic Dutch thinking plays a role in risk taking compared to the rest of the nationalities. Since the expected value (chance of winning multiplied by amount) is higher when betting more, in purely pragmatic sense, it should be more reasonable to bet more.\n",
    "<br><i>Ho</i>: Nationality has no effect on the average bet amount.\n",
    "<br><i>Ha</i>: Dutch students will choose to bet more on average than other nationalities.\n",
    "\n"
   ]
  },
  {
   "cell_type": "markdown",
   "metadata": {},
   "source": [
    "## Data exploration & Cleaning"
   ]
  },
  {
   "cell_type": "markdown",
   "metadata": {
    "Collapsed": "false"
   },
   "source": [
    "### Importing modules"
   ]
  },
  {
   "cell_type": "code",
   "execution_count": 27,
   "metadata": {
    "Collapsed": "false"
   },
   "outputs": [],
   "source": [
    "import numpy as np\n",
    "import pandas as pd\n",
    "import statsmodels.api as sm\n",
    "import matplotlib.pyplot as plt\n",
    "import random as r  # for the jiggle function\n",
    "import seaborn as sns # for heatmap"
   ]
  },
  {
   "cell_type": "markdown",
   "metadata": {
    "Collapsed": "false"
   },
   "source": [
    "### Importing data"
   ]
  },
  {
   "cell_type": "code",
   "execution_count": 28,
   "metadata": {
    "Collapsed": "false"
   },
   "outputs": [],
   "source": [
    "df = pd.read_excel(r'C:\\Users\\Lukas\\OneDrive\\University\\Year 3\\Behavioral Finance\\Project\\Python\\BEF_Project\\BF20.xlsx', sheet_name=1)"
   ]
  },
  {
   "cell_type": "markdown",
   "metadata": {
    "Collapsed": "false"
   },
   "source": [
    "### Inspecting general data"
   ]
  },
  {
   "cell_type": "code",
   "execution_count": 29,
   "metadata": {},
   "outputs": [
    {
     "data": {
      "text/html": [
       "<div>\n",
       "<style scoped>\n",
       "    .dataframe tbody tr th:only-of-type {\n",
       "        vertical-align: middle;\n",
       "    }\n",
       "\n",
       "    .dataframe tbody tr th {\n",
       "        vertical-align: top;\n",
       "    }\n",
       "\n",
       "    .dataframe thead th {\n",
       "        text-align: right;\n",
       "    }\n",
       "</style>\n",
       "<table border=\"1\" class=\"dataframe\">\n",
       "  <thead>\n",
       "    <tr style=\"text-align: right;\">\n",
       "      <th></th>\n",
       "      <th>Dice1</th>\n",
       "      <th>Inv1</th>\n",
       "      <th>Gain1</th>\n",
       "      <th>Pay1</th>\n",
       "      <th>Total1</th>\n",
       "      <th>Dice2</th>\n",
       "      <th>Inv2</th>\n",
       "      <th>Gain2</th>\n",
       "      <th>Pay2</th>\n",
       "      <th>Total2</th>\n",
       "      <th>...</th>\n",
       "      <th>Gain14</th>\n",
       "      <th>Pay14</th>\n",
       "      <th>Total14</th>\n",
       "      <th>Dice15</th>\n",
       "      <th>Inv15</th>\n",
       "      <th>Gain15</th>\n",
       "      <th>Pay15</th>\n",
       "      <th>female</th>\n",
       "      <th>dutch</th>\n",
       "      <th>age</th>\n",
       "    </tr>\n",
       "  </thead>\n",
       "  <tbody>\n",
       "    <tr>\n",
       "      <th>count</th>\n",
       "      <td>77.000000</td>\n",
       "      <td>77.000000</td>\n",
       "      <td>77.000000</td>\n",
       "      <td>77.000000</td>\n",
       "      <td>77.000000</td>\n",
       "      <td>77.000000</td>\n",
       "      <td>77.000000</td>\n",
       "      <td>77.000000</td>\n",
       "      <td>77.000000</td>\n",
       "      <td>77.000000</td>\n",
       "      <td>...</td>\n",
       "      <td>77.000000</td>\n",
       "      <td>77.000000</td>\n",
       "      <td>77.000000</td>\n",
       "      <td>77.000000</td>\n",
       "      <td>77.000000</td>\n",
       "      <td>77.000000</td>\n",
       "      <td>77.000000</td>\n",
       "      <td>77.000000</td>\n",
       "      <td>77.000000</td>\n",
       "      <td>77.00000</td>\n",
       "    </tr>\n",
       "    <tr>\n",
       "      <th>mean</th>\n",
       "      <td>3.376623</td>\n",
       "      <td>42.181818</td>\n",
       "      <td>7.376623</td>\n",
       "      <td>107.376623</td>\n",
       "      <td>107.376623</td>\n",
       "      <td>3.337662</td>\n",
       "      <td>41.025974</td>\n",
       "      <td>-1.636364</td>\n",
       "      <td>98.363636</td>\n",
       "      <td>205.740260</td>\n",
       "      <td>...</td>\n",
       "      <td>36.675325</td>\n",
       "      <td>136.675325</td>\n",
       "      <td>1573.428571</td>\n",
       "      <td>3.870130</td>\n",
       "      <td>41.545455</td>\n",
       "      <td>42.376623</td>\n",
       "      <td>142.376623</td>\n",
       "      <td>0.363636</td>\n",
       "      <td>0.779221</td>\n",
       "      <td>1997.25974</td>\n",
       "    </tr>\n",
       "    <tr>\n",
       "      <th>std</th>\n",
       "      <td>1.762467</td>\n",
       "      <td>30.765123</td>\n",
       "      <td>143.108262</td>\n",
       "      <td>143.108262</td>\n",
       "      <td>143.108262</td>\n",
       "      <td>1.651239</td>\n",
       "      <td>32.028348</td>\n",
       "      <td>136.054063</td>\n",
       "      <td>136.054063</td>\n",
       "      <td>189.861612</td>\n",
       "      <td>...</td>\n",
       "      <td>218.272309</td>\n",
       "      <td>218.272309</td>\n",
       "      <td>609.490564</td>\n",
       "      <td>1.688589</td>\n",
       "      <td>37.459995</td>\n",
       "      <td>221.528722</td>\n",
       "      <td>221.528722</td>\n",
       "      <td>0.484200</td>\n",
       "      <td>0.417492</td>\n",
       "      <td>2.46770</td>\n",
       "    </tr>\n",
       "    <tr>\n",
       "      <th>min</th>\n",
       "      <td>1.000000</td>\n",
       "      <td>0.000000</td>\n",
       "      <td>-100.000000</td>\n",
       "      <td>0.000000</td>\n",
       "      <td>0.000000</td>\n",
       "      <td>1.000000</td>\n",
       "      <td>0.000000</td>\n",
       "      <td>-100.000000</td>\n",
       "      <td>0.000000</td>\n",
       "      <td>0.000000</td>\n",
       "      <td>...</td>\n",
       "      <td>-100.000000</td>\n",
       "      <td>0.000000</td>\n",
       "      <td>0.000000</td>\n",
       "      <td>1.000000</td>\n",
       "      <td>0.000000</td>\n",
       "      <td>-100.000000</td>\n",
       "      <td>0.000000</td>\n",
       "      <td>0.000000</td>\n",
       "      <td>0.000000</td>\n",
       "      <td>1986.00000</td>\n",
       "    </tr>\n",
       "    <tr>\n",
       "      <th>25%</th>\n",
       "      <td>2.000000</td>\n",
       "      <td>20.000000</td>\n",
       "      <td>-50.000000</td>\n",
       "      <td>50.000000</td>\n",
       "      <td>50.000000</td>\n",
       "      <td>2.000000</td>\n",
       "      <td>17.000000</td>\n",
       "      <td>-50.000000</td>\n",
       "      <td>50.000000</td>\n",
       "      <td>100.000000</td>\n",
       "      <td>...</td>\n",
       "      <td>-60.000000</td>\n",
       "      <td>40.000000</td>\n",
       "      <td>1248.000000</td>\n",
       "      <td>3.000000</td>\n",
       "      <td>10.000000</td>\n",
       "      <td>-50.000000</td>\n",
       "      <td>50.000000</td>\n",
       "      <td>0.000000</td>\n",
       "      <td>1.000000</td>\n",
       "      <td>1997.00000</td>\n",
       "    </tr>\n",
       "    <tr>\n",
       "      <th>50%</th>\n",
       "      <td>3.000000</td>\n",
       "      <td>30.000000</td>\n",
       "      <td>-25.000000</td>\n",
       "      <td>75.000000</td>\n",
       "      <td>75.000000</td>\n",
       "      <td>3.000000</td>\n",
       "      <td>30.000000</td>\n",
       "      <td>-25.000000</td>\n",
       "      <td>75.000000</td>\n",
       "      <td>160.000000</td>\n",
       "      <td>...</td>\n",
       "      <td>-19.000000</td>\n",
       "      <td>81.000000</td>\n",
       "      <td>1505.000000</td>\n",
       "      <td>4.000000</td>\n",
       "      <td>30.000000</td>\n",
       "      <td>-20.000000</td>\n",
       "      <td>80.000000</td>\n",
       "      <td>0.000000</td>\n",
       "      <td>1.000000</td>\n",
       "      <td>1998.00000</td>\n",
       "    </tr>\n",
       "    <tr>\n",
       "      <th>75%</th>\n",
       "      <td>5.000000</td>\n",
       "      <td>60.000000</td>\n",
       "      <td>-12.000000</td>\n",
       "      <td>88.000000</td>\n",
       "      <td>88.000000</td>\n",
       "      <td>5.000000</td>\n",
       "      <td>60.000000</td>\n",
       "      <td>-10.000000</td>\n",
       "      <td>90.000000</td>\n",
       "      <td>249.000000</td>\n",
       "      <td>...</td>\n",
       "      <td>-1.000000</td>\n",
       "      <td>99.000000</td>\n",
       "      <td>1794.000000</td>\n",
       "      <td>5.000000</td>\n",
       "      <td>67.000000</td>\n",
       "      <td>0.000000</td>\n",
       "      <td>100.000000</td>\n",
       "      <td>1.000000</td>\n",
       "      <td>1.000000</td>\n",
       "      <td>1999.00000</td>\n",
       "    </tr>\n",
       "    <tr>\n",
       "      <th>max</th>\n",
       "      <td>6.000000</td>\n",
       "      <td>100.000000</td>\n",
       "      <td>640.000000</td>\n",
       "      <td>740.000000</td>\n",
       "      <td>740.000000</td>\n",
       "      <td>6.000000</td>\n",
       "      <td>100.000000</td>\n",
       "      <td>800.000000</td>\n",
       "      <td>900.000000</td>\n",
       "      <td>900.000000</td>\n",
       "      <td>...</td>\n",
       "      <td>800.000000</td>\n",
       "      <td>900.000000</td>\n",
       "      <td>3194.000000</td>\n",
       "      <td>6.000000</td>\n",
       "      <td>100.000000</td>\n",
       "      <td>800.000000</td>\n",
       "      <td>900.000000</td>\n",
       "      <td>1.000000</td>\n",
       "      <td>1.000000</td>\n",
       "      <td>2000.00000</td>\n",
       "    </tr>\n",
       "  </tbody>\n",
       "</table>\n",
       "<p>8 rows × 77 columns</p>\n",
       "</div>"
      ],
      "text/plain": [
       "           Dice1        Inv1       Gain1        Pay1      Total1      Dice2  \\\n",
       "count  77.000000   77.000000   77.000000   77.000000   77.000000  77.000000   \n",
       "mean    3.376623   42.181818    7.376623  107.376623  107.376623   3.337662   \n",
       "std     1.762467   30.765123  143.108262  143.108262  143.108262   1.651239   \n",
       "min     1.000000    0.000000 -100.000000    0.000000    0.000000   1.000000   \n",
       "25%     2.000000   20.000000  -50.000000   50.000000   50.000000   2.000000   \n",
       "50%     3.000000   30.000000  -25.000000   75.000000   75.000000   3.000000   \n",
       "75%     5.000000   60.000000  -12.000000   88.000000   88.000000   5.000000   \n",
       "max     6.000000  100.000000  640.000000  740.000000  740.000000   6.000000   \n",
       "\n",
       "             Inv2       Gain2        Pay2      Total2  ...      Gain14  \\\n",
       "count   77.000000   77.000000   77.000000   77.000000  ...   77.000000   \n",
       "mean    41.025974   -1.636364   98.363636  205.740260  ...   36.675325   \n",
       "std     32.028348  136.054063  136.054063  189.861612  ...  218.272309   \n",
       "min      0.000000 -100.000000    0.000000    0.000000  ... -100.000000   \n",
       "25%     17.000000  -50.000000   50.000000  100.000000  ...  -60.000000   \n",
       "50%     30.000000  -25.000000   75.000000  160.000000  ...  -19.000000   \n",
       "75%     60.000000  -10.000000   90.000000  249.000000  ...   -1.000000   \n",
       "max    100.000000  800.000000  900.000000  900.000000  ...  800.000000   \n",
       "\n",
       "            Pay14      Total14     Dice15       Inv15      Gain15       Pay15  \\\n",
       "count   77.000000    77.000000  77.000000   77.000000   77.000000   77.000000   \n",
       "mean   136.675325  1573.428571   3.870130   41.545455   42.376623  142.376623   \n",
       "std    218.272309   609.490564   1.688589   37.459995  221.528722  221.528722   \n",
       "min      0.000000     0.000000   1.000000    0.000000 -100.000000    0.000000   \n",
       "25%     40.000000  1248.000000   3.000000   10.000000  -50.000000   50.000000   \n",
       "50%     81.000000  1505.000000   4.000000   30.000000  -20.000000   80.000000   \n",
       "75%     99.000000  1794.000000   5.000000   67.000000    0.000000  100.000000   \n",
       "max    900.000000  3194.000000   6.000000  100.000000  800.000000  900.000000   \n",
       "\n",
       "          female      dutch         age  \n",
       "count  77.000000  77.000000    77.00000  \n",
       "mean    0.363636   0.779221  1997.25974  \n",
       "std     0.484200   0.417492     2.46770  \n",
       "min     0.000000   0.000000  1986.00000  \n",
       "25%     0.000000   1.000000  1997.00000  \n",
       "50%     0.000000   1.000000  1998.00000  \n",
       "75%     1.000000   1.000000  1999.00000  \n",
       "max     1.000000   1.000000  2000.00000  \n",
       "\n",
       "[8 rows x 77 columns]"
      ]
     },
     "execution_count": 29,
     "metadata": {},
     "output_type": "execute_result"
    }
   ],
   "source": [
    "df.describe()"
   ]
  },
  {
   "cell_type": "markdown",
   "metadata": {},
   "source": [
    "Removing the unnecessary columns (Dice, Gain, Total) by filtering them out using regex function.<br>\n",
    "To have only the variables of interest: Amount bet per period, female (gender), dutch (nationality) and year of birth:"
   ]
  },
  {
   "cell_type": "code",
   "execution_count": 30,
   "metadata": {},
   "outputs": [],
   "source": [
    "df = df.filter(regex='fem|dut|age|Inv')"
   ]
  },
  {
   "cell_type": "markdown",
   "metadata": {},
   "source": [
    "Checking if the data types are correct and if no values are missing:"
   ]
  },
  {
   "cell_type": "code",
   "execution_count": 31,
   "metadata": {},
   "outputs": [
    {
     "name": "stdout",
     "output_type": "stream",
     "text": [
      "<class 'pandas.core.frame.DataFrame'>\n",
      "RangeIndex: 77 entries, 0 to 76\n",
      "Data columns (total 18 columns):\n",
      " #   Column  Non-Null Count  Dtype\n",
      "---  ------  --------------  -----\n",
      " 0   Inv1    77 non-null     int64\n",
      " 1   Inv2    77 non-null     int64\n",
      " 2   Inv3    77 non-null     int64\n",
      " 3   Inv4    77 non-null     int64\n",
      " 4   Inv5    77 non-null     int64\n",
      " 5   Inv6    77 non-null     int64\n",
      " 6   Inv7    77 non-null     int64\n",
      " 7   Inv8    77 non-null     int64\n",
      " 8   Inv9    77 non-null     int64\n",
      " 9   Inv10   77 non-null     int64\n",
      " 10  Inv11   77 non-null     int64\n",
      " 11  Inv12   77 non-null     int64\n",
      " 12  Inv13   77 non-null     int64\n",
      " 13  Inv14   77 non-null     int64\n",
      " 14  Inv15   77 non-null     int64\n",
      " 15  female  77 non-null     int64\n",
      " 16  dutch   77 non-null     int64\n",
      " 17  age     77 non-null     int64\n",
      "dtypes: int64(18)\n",
      "memory usage: 11.0 KB\n"
     ]
    }
   ],
   "source": [
    "df.info()"
   ]
  },
  {
   "cell_type": "markdown",
   "metadata": {},
   "source": [
    "Renaming age column to age of birth:"
   ]
  },
  {
   "cell_type": "code",
   "execution_count": 32,
   "metadata": {},
   "outputs": [],
   "source": [
    "df.rename(columns={'age': 'YoB'}, inplace=True)"
   ]
  },
  {
   "cell_type": "markdown",
   "metadata": {},
   "source": [
    "### Inspecting individual variables"
   ]
  },
  {
   "cell_type": "markdown",
   "metadata": {},
   "source": [
    "#### Average bet"
   ]
  },
  {
   "cell_type": "markdown",
   "metadata": {},
   "source": [
    "##### Calculating the average bet per person:"
   ]
  },
  {
   "cell_type": "code",
   "execution_count": 33,
   "metadata": {},
   "outputs": [],
   "source": [
    "df['Avg_bet'] = df.filter(regex='Inv').mean(axis=1)"
   ]
  },
  {
   "cell_type": "markdown",
   "metadata": {},
   "source": [
    "Dropping the no longer needed bet per period columns:"
   ]
  },
  {
   "cell_type": "code",
   "execution_count": 34,
   "metadata": {},
   "outputs": [],
   "source": [
    "df = df[['Avg_bet', 'female', 'dutch', 'YoB']]"
   ]
  },
  {
   "cell_type": "markdown",
   "metadata": {},
   "source": [
    "We end up with a dataset that looks like this:"
   ]
  },
  {
   "cell_type": "code",
   "execution_count": 35,
   "metadata": {},
   "outputs": [
    {
     "data": {
      "text/html": [
       "<div>\n",
       "<style scoped>\n",
       "    .dataframe tbody tr th:only-of-type {\n",
       "        vertical-align: middle;\n",
       "    }\n",
       "\n",
       "    .dataframe tbody tr th {\n",
       "        vertical-align: top;\n",
       "    }\n",
       "\n",
       "    .dataframe thead th {\n",
       "        text-align: right;\n",
       "    }\n",
       "</style>\n",
       "<table border=\"1\" class=\"dataframe\">\n",
       "  <thead>\n",
       "    <tr style=\"text-align: right;\">\n",
       "      <th></th>\n",
       "      <th>Avg_bet</th>\n",
       "      <th>female</th>\n",
       "      <th>dutch</th>\n",
       "      <th>YoB</th>\n",
       "    </tr>\n",
       "  </thead>\n",
       "  <tbody>\n",
       "    <tr>\n",
       "      <th>0</th>\n",
       "      <td>60.6</td>\n",
       "      <td>0</td>\n",
       "      <td>0</td>\n",
       "      <td>1986</td>\n",
       "    </tr>\n",
       "    <tr>\n",
       "      <th>1</th>\n",
       "      <td>10.0</td>\n",
       "      <td>0</td>\n",
       "      <td>1</td>\n",
       "      <td>1988</td>\n",
       "    </tr>\n",
       "    <tr>\n",
       "      <th>2</th>\n",
       "      <td>28.2</td>\n",
       "      <td>0</td>\n",
       "      <td>1</td>\n",
       "      <td>1994</td>\n",
       "    </tr>\n",
       "    <tr>\n",
       "      <th>3</th>\n",
       "      <td>100.0</td>\n",
       "      <td>0</td>\n",
       "      <td>1</td>\n",
       "      <td>1994</td>\n",
       "    </tr>\n",
       "    <tr>\n",
       "      <th>4</th>\n",
       "      <td>18.0</td>\n",
       "      <td>0</td>\n",
       "      <td>1</td>\n",
       "      <td>1994</td>\n",
       "    </tr>\n",
       "  </tbody>\n",
       "</table>\n",
       "</div>"
      ],
      "text/plain": [
       "   Avg_bet  female  dutch   YoB\n",
       "0     60.6       0      0  1986\n",
       "1     10.0       0      1  1988\n",
       "2     28.2       0      1  1994\n",
       "3    100.0       0      1  1994\n",
       "4     18.0       0      1  1994"
      ]
     },
     "execution_count": 35,
     "metadata": {},
     "output_type": "execute_result"
    }
   ],
   "source": [
    "df.head(5)"
   ]
  },
  {
   "cell_type": "markdown",
   "metadata": {},
   "source": [
    "##### Visually inspecting the average bet variable via a histogram:"
   ]
  },
  {
   "cell_type": "code",
   "execution_count": 36,
   "metadata": {
    "Collapsed": "false"
   },
   "outputs": [
    {
     "data": {
      "image/png": "[encoded data removed]",
      "text/plain": [
       "<Figure size 720x360 with 1 Axes>"
      ]
     },
     "metadata": {
      "needs_background": "light"
     },
     "output_type": "display_data"
    }
   ],
   "source": [
    "# Setting a figure size\n",
    "plt.figure(figsize=(10, 5))\n",
    "\n",
    "# Plotting the histogram and adding labels\n",
    "plt.hist(df.Avg_bet, bins=25, color='#7699D4', edgecolor='black')\n",
    "plt.xlabel('Average bet', fontsize=15)\n",
    "plt.ylabel('Count', fontsize=15)\n",
    "plt.title('Average bet histogram', fontsize=20)\n",
    "\n",
    "# Removing top and right part of the frame\n",
    "plt.gca().spines['top'].set_visible(False)\n",
    "plt.gca().spines['right'].set_visible(False)\n",
    "\n",
    "# Saving the figure\n",
    "plt.savefig('histogram.png', dpi=600)"
   ]
  },
  {
   "cell_type": "markdown",
   "metadata": {},
   "source": [
    "There are some outliers (people who chose to go all in, betting the maximum 100 EUR every time), however it is a real and important observation, therefore we will keep it."
   ]
  },
  {
   "cell_type": "markdown",
   "metadata": {},
   "source": [
    "Visually, the average bet seems to be slightly skewed to the right. To be sure, we can test for that using pandas skew() function:"
   ]
  },
  {
   "cell_type": "code",
   "execution_count": 37,
   "metadata": {},
   "outputs": [
    {
     "data": {
      "text/plain": [
       "0.6449460589435086"
      ]
     },
     "execution_count": 37,
     "metadata": {},
     "output_type": "execute_result"
    }
   ],
   "source": [
    "df['Avg_bet'].skew()"
   ]
  },
  {
   "cell_type": "markdown",
   "metadata": {},
   "source": [
    "Additionally, I check for kurtosis:"
   ]
  },
  {
   "cell_type": "code",
   "execution_count": 38,
   "metadata": {},
   "outputs": [
    {
     "data": {
      "text/plain": [
       "-0.93381782465103"
      ]
     },
     "execution_count": 38,
     "metadata": {},
     "output_type": "execute_result"
    }
   ],
   "source": [
    "df['Avg_bet'].kurtosis()"
   ]
  },
  {
   "cell_type": "markdown",
   "metadata": {},
   "source": [
    "Rule of thumb is that values -0.8 to 0.8 for skewness and -3.0 to 3.0 for kurtosis are nothing to worry about (in terms of having a significant impact on the regression results)."
   ]
  },
  {
   "cell_type": "markdown",
   "metadata": {},
   "source": [
    "#### Year of birth and age"
   ]
  },
  {
   "cell_type": "code",
   "execution_count": 39,
   "metadata": {
    "Collapsed": "false"
   },
   "outputs": [
    {
     "data": {
      "text/plain": [
       "1999    20\n",
       "1998    20\n",
       "1997    14\n",
       "1996     6\n",
       "1995     6\n",
       "2000     5\n",
       "1994     3\n",
       "1989     1\n",
       "1988     1\n",
       "1986     1\n",
       "Name: YoB, dtype: int64"
      ]
     },
     "execution_count": 39,
     "metadata": {},
     "output_type": "execute_result"
    }
   ],
   "source": [
    "df['YoB'].value_counts()"
   ]
  },
  {
   "cell_type": "markdown",
   "metadata": {},
   "source": [
    "Transforming year of birth into age:"
   ]
  },
  {
   "cell_type": "code",
   "execution_count": 40,
   "metadata": {
    "Collapsed": "false"
   },
   "outputs": [],
   "source": [
    "# Setting all of the Age values to 0, so that they can\n",
    "# be removed if the function below doesn't assign it a value\n",
    "df['Age'] = 0\n",
    "\n",
    "# Replacing Year of birth with relative 'Age' variable, so that it can be\n",
    "# used more intuitively in the regression (higher age = older,\n",
    "# instead of lower birth year = older)\n",
    "y = 27  # Values to replace corresponding years\n",
    "for year in range(1994, 2001):  # Year range to replace\n",
    "    y -= 1\n",
    "    df.loc[df['YoB'] == year, 'Age'] = y"
   ]
  },
  {
   "cell_type": "markdown",
   "metadata": {},
   "source": [
    "Removing ages that: \n",
    "<br>- Have only 1 observation \n",
    "<br>- Are outliers (major age difference)\n",
    "<br>To reduce error in the regression analysis"
   ]
  },
  {
   "cell_type": "code",
   "execution_count": 41,
   "metadata": {
    "Collapsed": "false"
   },
   "outputs": [],
   "source": [
    "# Dropping ages that have only 1 observation\n",
    "df = df.loc[df['Age'] != 0, :]"
   ]
  },
  {
   "cell_type": "code",
   "execution_count": 42,
   "metadata": {},
   "outputs": [
    {
     "data": {
      "text/html": [
       "<div>\n",
       "<style scoped>\n",
       "    .dataframe tbody tr th:only-of-type {\n",
       "        vertical-align: middle;\n",
       "    }\n",
       "\n",
       "    .dataframe tbody tr th {\n",
       "        vertical-align: top;\n",
       "    }\n",
       "\n",
       "    .dataframe thead th {\n",
       "        text-align: right;\n",
       "    }\n",
       "</style>\n",
       "<table border=\"1\" class=\"dataframe\">\n",
       "  <thead>\n",
       "    <tr style=\"text-align: right;\">\n",
       "      <th></th>\n",
       "      <th>Avg_bet</th>\n",
       "      <th>female</th>\n",
       "      <th>dutch</th>\n",
       "      <th>YoB</th>\n",
       "      <th>Age</th>\n",
       "    </tr>\n",
       "  </thead>\n",
       "  <tbody>\n",
       "    <tr>\n",
       "      <th>2</th>\n",
       "      <td>28.200000</td>\n",
       "      <td>0</td>\n",
       "      <td>1</td>\n",
       "      <td>1994</td>\n",
       "      <td>26</td>\n",
       "    </tr>\n",
       "    <tr>\n",
       "      <th>3</th>\n",
       "      <td>100.000000</td>\n",
       "      <td>0</td>\n",
       "      <td>1</td>\n",
       "      <td>1994</td>\n",
       "      <td>26</td>\n",
       "    </tr>\n",
       "    <tr>\n",
       "      <th>4</th>\n",
       "      <td>18.000000</td>\n",
       "      <td>0</td>\n",
       "      <td>1</td>\n",
       "      <td>1994</td>\n",
       "      <td>26</td>\n",
       "    </tr>\n",
       "    <tr>\n",
       "      <th>5</th>\n",
       "      <td>33.000000</td>\n",
       "      <td>0</td>\n",
       "      <td>1</td>\n",
       "      <td>1995</td>\n",
       "      <td>25</td>\n",
       "    </tr>\n",
       "    <tr>\n",
       "      <th>6</th>\n",
       "      <td>19.933333</td>\n",
       "      <td>0</td>\n",
       "      <td>1</td>\n",
       "      <td>1995</td>\n",
       "      <td>25</td>\n",
       "    </tr>\n",
       "  </tbody>\n",
       "</table>\n",
       "</div>"
      ],
      "text/plain": [
       "      Avg_bet  female  dutch   YoB  Age\n",
       "2   28.200000       0      1  1994   26\n",
       "3  100.000000       0      1  1994   26\n",
       "4   18.000000       0      1  1994   26\n",
       "5   33.000000       0      1  1995   25\n",
       "6   19.933333       0      1  1995   25"
      ]
     },
     "execution_count": 42,
     "metadata": {},
     "output_type": "execute_result"
    }
   ],
   "source": [
    "df.head(5)"
   ]
  },
  {
   "cell_type": "code",
   "execution_count": 43,
   "metadata": {},
   "outputs": [],
   "source": [
    "# Removing the YoB column\n",
    "df = df.drop('YoB', axis=1)"
   ]
  },
  {
   "cell_type": "code",
   "execution_count": 44,
   "metadata": {},
   "outputs": [
    {
     "data": {
      "image/png": "[encoded data removed]",
      "text/plain": [
       "<Figure size 504x360 with 1 Axes>"
      ]
     },
     "metadata": {
      "needs_background": "light"
     },
     "output_type": "display_data"
    }
   ],
   "source": [
    "# Setting a figure size\n",
    "plt.figure(figsize=(7, 5))\n",
    "\n",
    "# Plotting the histogram and adding labels\n",
    "plt.hist(df['Age'], bins=25, color='#7699D4', edgecolor='white')\n",
    "plt.ylabel('Count', fontsize=15)\n",
    "plt.xlabel('Age', fontsize=15)\n",
    "plt.title('Age histogram', fontsize=20)\n",
    "\n",
    "# Removing top and right part of the frame\n",
    "plt.gca().spines['top'].set_visible(False)\n",
    "plt.gca().spines['right'].set_visible(False)\n",
    "\n",
    "# Saving the figure\n",
    "plt.savefig('Count vs age (hist).png', dpi=600)"
   ]
  },
  {
   "cell_type": "code",
   "execution_count": 45,
   "metadata": {},
   "outputs": [
    {
     "data": {
      "text/plain": [
       "0.6789652872482161"
      ]
     },
     "execution_count": 45,
     "metadata": {},
     "output_type": "execute_result"
    }
   ],
   "source": [
    "df['Age'].skew()"
   ]
  },
  {
   "cell_type": "code",
   "execution_count": 46,
   "metadata": {},
   "outputs": [
    {
     "data": {
      "text/plain": [
       "-0.15852396846247574"
      ]
     },
     "execution_count": 46,
     "metadata": {},
     "output_type": "execute_result"
    }
   ],
   "source": [
    "df['Age'].kurtosis()"
   ]
  },
  {
   "cell_type": "markdown",
   "metadata": {},
   "source": [
    "#### Correlations: Average bet vs independent variables"
   ]
  },
  {
   "cell_type": "markdown",
   "metadata": {},
   "source": [
    "Visually exploring data to see the trends between correlations."
   ]
  },
  {
   "cell_type": "markdown",
   "metadata": {},
   "source": [
    "<i>Creating 'jitter' functions, which move around the scatter dots slightly, to avoid the issue of overlaid scatter dots, so that all of the dots can be seen."
   ]
  },
  {
   "cell_type": "code",
   "execution_count": 47,
   "metadata": {},
   "outputs": [],
   "source": [
    "# Jitter function for dot visibility (when overlapping)\n",
    "j = 0.025  # value for jitterness, 0.05 is medium\n",
    "def rand_jitter(arr):  # doesn't work if there's 1 value (eg. 0, in the column, it must have at least 2, because max - min always = 0)\n",
    "    stdev = 0.01*(max(arr)-min(arr))\n",
    "    return arr + np.random.randn(len(arr)) * stdev\n",
    "def rand_jitter1(arr):  # Version 2 for columns with 1 value (THAT IS NOT 0)\n",
    "    stdev = j*(max(arr))\n",
    "    return arr + np.random.randn(len(arr)) * stdev\n",
    "def rand_jitter0(arr):  # Version3 for columns with 1 value (THAT IS 0)\n",
    "    return arr + np.random.randn(len(arr)) * j"
   ]
  },
  {
   "cell_type": "markdown",
   "metadata": {},
   "source": [
    "##### Average bet by gender"
   ]
  },
  {
   "cell_type": "code",
   "execution_count": 48,
   "metadata": {},
   "outputs": [
    {
     "data": {
      "image/png": "[encoded data removed]",
      "text/plain": [
       "<Figure size 216x504 with 1 Axes>"
      ]
     },
     "metadata": {
      "needs_background": "light"
     },
     "output_type": "display_data"
    }
   ],
   "source": [
    "# Setting a figure size for ONE upcoming figure (in inches) (this must be done before creating any figures)\n",
    "plt.figure(figsize=(3, 7))\n",
    "\n",
    "# selecting male data\n",
    "df_avg_male_bet = df.loc[df['female'] == 0, 'Avg_bet']\n",
    "male = df.loc[df['female'] == 0, 'female']\n",
    "# selecting female data\n",
    "df_avg_fem_bet = df.loc[df['female'] == 1, 'Avg_bet']\n",
    "female = df.loc[df['female'] == 1, 'female']\n",
    "\n",
    "# Plotting\n",
    "# Males\n",
    "plt.scatter(rand_jitter0(male), rand_jitter(df_avg_male_bet), alpha=0.6, s=150, c=df_avg_male_bet, cmap='Blues', edgecolor='black', linewidth=0.3)\n",
    "# Females\n",
    "plt.scatter(rand_jitter1(female), rand_jitter(df_avg_fem_bet), alpha=0.6, s=150, c=df_avg_fem_bet, cmap='RdPu', edgecolor='black', linewidth=0.3)\n",
    "\n",
    "# adjusting\n",
    "plt.title('Average bet by gender', fontsize=20)\n",
    "plt.ylabel('Average bet', fontsize=15)\n",
    "plt.xlabel('Gender', fontsize=15)\n",
    "plt.xticks(ticks=[0, 1], labels=['Male', 'Female'])\n",
    "plt.yticks(ticks=[0, 20, 40, 60, 80, 100], labels=['€0', '€20', '€40', '€60', '€80', '€100'])\n",
    "\n",
    "# Saving the figure\n",
    "plt.savefig('Average bet by gender.png', dpi=600)"
   ]
  },
  {
   "cell_type": "markdown",
   "metadata": {},
   "source": [
    "We can clearly see a difference between the genders, it is a good sign that a relationship will be found during the regression analysis.\n",
    "<p>Furthermore, we can also visualize the same data using a histogram, which can help see the points which were originally overlaid (for example where men bet exactly 100 Eur each time)."
   ]
  },
  {
   "cell_type": "code",
   "execution_count": 49,
   "metadata": {},
   "outputs": [
    {
     "data": {
      "image/png": "[encoded data removed]",
      "text/plain": [
       "<Figure size 720x504 with 1 Axes>"
      ]
     },
     "metadata": {
      "needs_background": "light"
     },
     "output_type": "display_data"
    }
   ],
   "source": [
    "# Setting a figure size any figures)\n",
    "plt.figure(figsize=(10, 7))\n",
    "\n",
    "# Plotting histograms\n",
    "plt.hist(df_avg_male_bet, bins=30, alpha=0.7, label='Males', color='blue')\n",
    "plt.hist(df_avg_fem_bet, bins=30, alpha=0.5, label='Females', color='red', edgecolor='white')\n",
    "plt.ylabel('Value count', fontsize=15)\n",
    "plt.xlabel('Average bet', fontsize=15)\n",
    "plt.legend(loc='upper left')\n",
    "plt.xticks(ticks=[0, 20, 40, 60, 80, 100], labels=['€0', '€20', '€40', '€60', '€80', '€100'])\n",
    "\n",
    "# Removing top and right part of the frame\n",
    "plt.gca().spines['top'].set_visible(False)\n",
    "plt.gca().spines['right'].set_visible(False)\n",
    "\n",
    "# Saving the figure\n",
    "plt.savefig('Average bet by age (hist).png', dpi=600)"
   ]
  },
  {
   "cell_type": "markdown",
   "metadata": {},
   "source": [
    "##### Average bet by nationality"
   ]
  },
  {
   "cell_type": "code",
   "execution_count": 50,
   "metadata": {},
   "outputs": [
    {
     "data": {
      "image/png": "[encoded data removed]",
      "text/plain": [
       "<Figure size 216x504 with 1 Axes>"
      ]
     },
     "metadata": {
      "needs_background": "light"
     },
     "output_type": "display_data"
    }
   ],
   "source": [
    "# Setting a figure size for ONE upcoming figure (in inches) (this must be done before creating any figures)\n",
    "plt.figure(figsize=(3, 7))\n",
    "\n",
    "# selecting dutch data\n",
    "df_avg_dutch_bet = df.loc[df['dutch'] == 1, 'Avg_bet']\n",
    "dutch = df.loc[df['dutch'] == 1, 'dutch']\n",
    "# selecting international data\n",
    "df_avg_intern_bet = df.loc[df['dutch'] == 0, 'Avg_bet']\n",
    "intern = df.loc[df['dutch'] == 0, 'dutch']\n",
    "\n",
    "# Plotting\n",
    "# Dutch\n",
    "plt.scatter(rand_jitter1(dutch), rand_jitter(df_avg_dutch_bet), alpha=0.6, s=150, c=df_avg_dutch_bet, cmap='YlOrBr', edgecolor='black', linewidth=0.3)\n",
    "# Internationals\n",
    "plt.scatter(rand_jitter0(intern), rand_jitter(df_avg_intern_bet), alpha=0.6, s=150, c=df_avg_intern_bet, cmap='Blues', edgecolor='black', linewidth=0.3)\n",
    "\n",
    "# adjusting\n",
    "plt.title('Average bet by nationality', fontsize=20)\n",
    "plt.xlabel('Nationality', fontsize=15)\n",
    "plt.ylabel('Average bet', fontsize=15)\n",
    "plt.xticks(ticks=[0, 1], labels=['Internationals', 'Dutch'])\n",
    "plt.yticks(ticks=[0, 20, 40, 60, 80, 100], labels=['€0', '€20', '€40', '€60', '€80', '€100'])\n",
    "\n",
    "# Saving the figure\n",
    "plt.savefig('Average bet by nationality.png', dpi=600)"
   ]
  },
  {
   "cell_type": "markdown",
   "metadata": {},
   "source": [
    "There's little that can be derived from this plot, especially since the sample size differs quite a lot between the nationalities. Overall the distribution seems similar."
   ]
  },
  {
   "cell_type": "markdown",
   "metadata": {},
   "source": [
    "##### Bet by age"
   ]
  },
  {
   "cell_type": "code",
   "execution_count": 51,
   "metadata": {},
   "outputs": [
    {
     "data": {
      "image/png": "[encoded data removed]",
      "text/plain": [
       "<Figure size 576x504 with 1 Axes>"
      ]
     },
     "metadata": {
      "needs_background": "light"
     },
     "output_type": "display_data"
    }
   ],
   "source": [
    "# Setting a figure size\n",
    "plt.figure(figsize=(8, 7))\n",
    "\n",
    "# selecting 21\n",
    "y21 = df.loc[df['Age'] == 21, 'Age']\n",
    "avg21bet = df.loc[df['Age'] == 21, 'Avg_bet']\n",
    "# selecting 22\n",
    "y22 = df.loc[df['Age'] == 22, 'Age']\n",
    "avg22bet = df.loc[df['Age'] == 22, 'Avg_bet']\n",
    "# selecting 23\n",
    "y23 = df.loc[df['Age'] == 23, 'Age']\n",
    "avg23bet = df.loc[df['Age'] == 23, 'Avg_bet']\n",
    "# selecting 24\n",
    "y24 = df.loc[df['Age'] == 24, 'Age']\n",
    "avg24bet = df.loc[df['Age'] == 24, 'Avg_bet']\n",
    "# selecting 25\n",
    "y25 = df.loc[df['Age'] == 25, 'Age']\n",
    "avg25bet = df.loc[df['Age'] == 25, 'Avg_bet']\n",
    "# selecting 26\n",
    "y26 = df.loc[df['Age'] == 26, 'Age']\n",
    "avg26bet = df.loc[df['Age'] == 26, 'Avg_bet']\n",
    "\n",
    "# Plotting\n",
    "# 21\n",
    "plt.scatter(rand_jitter0(y21), rand_jitter(avg21bet), alpha=0.6, s=150, c=avg21bet, cmap='cividis_r', edgecolor='black', linewidth=0.3)\n",
    "# 22\n",
    "plt.scatter(rand_jitter0(y22), rand_jitter(avg22bet), alpha=0.6, s=150, c=avg22bet, cmap='cividis_r', edgecolor='black', linewidth=0.3)\n",
    "# 23\n",
    "plt.scatter(rand_jitter0(y23), rand_jitter(avg23bet), alpha=0.6, s=150, c=avg23bet, cmap='cividis_r', edgecolor='black', linewidth=0.3)\n",
    "# 24\n",
    "plt.scatter(rand_jitter0(y24), rand_jitter(avg24bet), alpha=0.6, s=150, c=avg24bet, cmap='cividis_r', edgecolor='black', linewidth=0.3)\n",
    "# 25\n",
    "plt.scatter(rand_jitter0(y25), rand_jitter(avg25bet), alpha=0.6, s=150, c=avg25bet, cmap='cividis_r', edgecolor='black', linewidth=0.3)\n",
    "# 26\n",
    "plt.scatter(rand_jitter0(y26), rand_jitter(avg26bet), alpha=0.6, s=150, c=avg26bet, cmap='cividis_r', edgecolor='black', linewidth=0.3)\n",
    "\n",
    "# adjusting\n",
    "plt.title('Average bet by age', fontsize=20)\n",
    "plt.xlabel('Age', fontsize=15)\n",
    "plt.ylabel('Average bet', fontsize=15)\n",
    "plt.yticks(ticks=[0, 20, 40, 60, 80, 100], labels=['€0', '€20', '€40', '€60', '€80', '€100'])\n",
    "\n",
    "# Saving the figure\n",
    "plt.savefig('Average bet by age.png', dpi=600)"
   ]
  },
  {
   "cell_type": "markdown",
   "metadata": {},
   "source": [
    "Starting from the age of 21 up until 23 (or perhaps even 24), a noticeable decline in risk-taking behaviour can be observed. Further analysis is difficult due to a small number of observations."
   ]
  },
  {
   "cell_type": "markdown",
   "metadata": {
    "Collapsed": "false"
   },
   "source": [
    "## Data analysis"
   ]
  },
  {
   "cell_type": "markdown",
   "metadata": {
    "Collapsed": "false"
   },
   "source": [
    "#### Checking for multicollinearity"
   ]
  },
  {
   "cell_type": "markdown",
   "metadata": {
    "Collapsed": "false"
   },
   "source": [
    "Multicollinearity increases the estimate of standard error of regression coefficients which makes some variables statistically insignificant when they should be significant.<br>\n",
    "<br>General guidelines for correlation value and its evaluation:\n",
    "<br>0.0 – 0.2\tWeak correlation\n",
    "<br>0.3 – 0.6\tModerate correlation\n",
    "<br>0.7 – 1.0\tStrong correlation"
   ]
  },
  {
   "cell_type": "markdown",
   "metadata": {
    "Collapsed": "false"
   },
   "source": [
    "##### Correlation matrix"
   ]
  },
  {
   "cell_type": "code",
   "execution_count": 52,
   "metadata": {},
   "outputs": [
    {
     "data": {
      "image/png": "[encoded data removed]",
      "text/plain": [
       "<Figure size 432x432 with 2 Axes>"
      ]
     },
     "metadata": {
      "needs_background": "light"
     },
     "output_type": "display_data"
    }
   ],
   "source": [
    "# Creating a correlation matrix\n",
    "# cdf = df.drop('Avg_bet', axis=1)  # Creates a correlation matrix without dependent Avg_bet variable\n",
    "corr = df.corr()\n",
    "\n",
    "# Creating a mask for the heatmap (removes upper part of the triangle - redundant information)\n",
    "mask = np.zeros_like(corr, dtype=np.bool)  # Copy the df shape and fill it with 0's\n",
    "mask[np.triu_indices_from(mask)] = True  # Select upper triangle of array\n",
    "\n",
    "# Creating a heatmap\n",
    "plt.figure(figsize=(6, 6))\n",
    "ax = sns.heatmap(\n",
    "    corr,\n",
    "    vmin=-1, vmax=1, center=0,\n",
    "    cbar_kws={\"ticks\": [-1, -0.5, 0, 0.5, 1]},  # setting colorbar tick values\n",
    "    cmap=sns.diverging_palette(20, 220, n=200),\n",
    "    square=True,\n",
    "    annot=True,\n",
    "    mask=mask)\n",
    "\n",
    "# Tweaking X-axis labels\n",
    "ax.set_xticklabels(\n",
    "    ax.get_xticklabels(),\n",
    "    rotation=45,\n",
    "    horizontalalignment='right')\n",
    "\n",
    "# Tweaking Y-axis labels\n",
    "ax.set_yticklabels(\n",
    "    ax.get_yticklabels(),\n",
    "    rotation=0)\n",
    "\n",
    "# Saving the figure\n",
    "plt.savefig('Correlation matrix heatmap.png', dpi=600)"
   ]
  },
  {
   "cell_type": "markdown",
   "metadata": {},
   "source": [
    "There is slight correlation between the nationality (dutch) and gender (female) variables. VIF will provide more detailed results.\n",
    "<br>\n",
    "<i>Note: Avg_bet is included for exploring the possible relationships between variables, but does not play a role in multicollinearity."
   ]
  },
  {
   "cell_type": "markdown",
   "metadata": {},
   "source": [
    "##### VIF"
   ]
  },
  {
   "cell_type": "code",
   "execution_count": 53,
   "metadata": {},
   "outputs": [
    {
     "name": "stdout",
     "output_type": "stream",
     "text": [
      "  variables       VIF\n",
      "0    female  1.111054\n",
      "1     dutch  1.122474\n",
      "2       Age  1.011098\n"
     ]
    }
   ],
   "source": [
    "# Import function\n",
    "from statsmodels.stats.outliers_influence import variance_inflation_factor\n",
    "\n",
    "# Get variables for which to compute VIF and add intercept term\n",
    "x = df[['female', 'dutch', 'Age']]\n",
    "x['Intercept'] = 1  # Using statsmodels VIF calculation requires adding the intercept column, because it is not done so automatically, and otherwise will result in incorrect VIF values.\n",
    "\n",
    "# Compute and view VIF\n",
    "vif = pd.DataFrame()\n",
    "vif[\"variables\"] = x.columns\n",
    "vif[\"VIF\"] = [variance_inflation_factor(x.values, i) for i in range(x.shape[1])]\n",
    "\n",
    "# Dropping the intercept row\n",
    "vif = vif.drop(3)\n",
    "\n",
    "# View results using print\n",
    "print(vif)"
   ]
  },
  {
   "cell_type": "markdown",
   "metadata": {},
   "source": [
    "##### Interpretation of VIF\n",
    "\n",
    "VIF = 1 Not correlated\n",
    "\n",
    "1 < VIF < 5 Moderately correlated\n",
    "\n",
    "VIF > 5 Highly correlated"
   ]
  },
  {
   "cell_type": "markdown",
   "metadata": {},
   "source": [
    "##### Visual representation of VIF"
   ]
  },
  {
   "cell_type": "code",
   "execution_count": 54,
   "metadata": {},
   "outputs": [
    {
     "data": {
      "image/png": "[encoded data removed]",
      "text/plain": [
       "<Figure size 576x288 with 1 Axes>"
      ]
     },
     "metadata": {
      "needs_background": "light"
     },
     "output_type": "display_data"
    }
   ],
   "source": [
    "# Setting figure size\n",
    "plt.figure(figsize=(8, 4))\n",
    "\n",
    "# Plotting a horizontal bar chart\n",
    "b = plt.barh(y=vif['variables'], width=vif['VIF'],\n",
    "        height=0.5, color='darkorange')\n",
    "\n",
    "# adjusting\n",
    "plt.title('VIF values', fontsize=20)\n",
    "plt.xlabel('Value', fontsize=15)\n",
    "plt.ylabel('Variable', fontsize=15)\n",
    "\n",
    "# Removing top and right part of the frame\n",
    "plt.gca().spines['top'].set_visible(False)\n",
    "plt.gca().spines['right'].set_visible(False)\n",
    "\n",
    "# draw vertical line from (70, 100) < x ,x coordinates  to (70, 250) < y, y coordinates\n",
    "plt.plot([5, 5], [-0.4, 2.5], '--', lw=2, color='darkred')\n",
    "\n",
    "# Setting x value limits (plt.xlim used instead of b.set_xlim because of barh type of chart)\n",
    "plt.xlim([0, 5.5])\n",
    "\n",
    "# Saving the figure\n",
    "plt.savefig('VIF values graph.png', dpi=600)"
   ]
  },
  {
   "cell_type": "markdown",
   "metadata": {},
   "source": [
    "VIF's value of ~1 shows close to no multicorrelation (while the value of concern is usually said to be between 5 and 10)."
   ]
  },
  {
   "cell_type": "markdown",
   "metadata": {
    "Collapsed": "false"
   },
   "source": [
    "### Regression"
   ]
  },
  {
   "cell_type": "code",
   "execution_count": 55,
   "metadata": {},
   "outputs": [
    {
     "name": "stdout",
     "output_type": "stream",
     "text": [
      "                            OLS Regression Results                            \n",
      "==============================================================================\n",
      "Dep. Variable:                Avg_bet   R-squared:                       0.312\n",
      "Model:                            OLS   Adj. R-squared:                  0.282\n",
      "Method:                 Least Squares   F-statistic:                     10.56\n",
      "Date:                Fri, 17 Apr 2020   Prob (F-statistic):           8.17e-06\n",
      "Time:                        10:16:58   Log-Likelihood:                -344.20\n",
      "No. Observations:                  74   AIC:                             696.4\n",
      "Df Residuals:                      70   BIC:                             705.6\n",
      "Df Model:                           3                                         \n",
      "Covariance Type:            nonrobust                                         \n",
      "==============================================================================\n",
      "                 coef    std err          t      P>|t|      [0.025      0.975]\n",
      "------------------------------------------------------------------------------\n",
      "const        199.5702     46.161      4.323      0.000     107.505     291.635\n",
      "female       -30.4368      6.632     -4.590      0.000     -43.664     -17.210\n",
      "dutch         -6.1293      7.982     -0.768      0.445     -22.049       9.790\n",
      "Age           -6.2396      2.004     -3.113      0.003     -10.237      -2.242\n",
      "==============================================================================\n",
      "Omnibus:                        1.188   Durbin-Watson:                   1.841\n",
      "Prob(Omnibus):                  0.552   Jarque-Bera (JB):                1.253\n",
      "Skew:                           0.248   Prob(JB):                        0.534\n",
      "Kurtosis:                       2.599   Cond. No.                         343.\n",
      "==============================================================================\n",
      "\n",
      "Warnings:\n",
      "[1] Standard Errors assume that the covariance matrix of the errors is correctly specified.\n"
     ]
    }
   ],
   "source": [
    "# Regression variables\n",
    "X = df[['female', 'dutch', 'Age']]\n",
    "Y = df['Avg_bet']\n",
    "\n",
    "# Running the regression\n",
    "X = sm.add_constant(X)  # add an intercept (beta_0) to our model\n",
    "model = sm.OLS(Y, X).fit()  # cov_type=\"HC1\" makes the regression model robust\n",
    "\n",
    "# Print out the regression output\n",
    "print(model.summary())"
   ]
  },
  {
   "cell_type": "markdown",
   "metadata": {},
   "source": [
    "#### Evaluating the quality of the model"
   ]
  },
  {
   "cell_type": "markdown",
   "metadata": {},
   "source": [
    "##### Residuals plot"
   ]
  },
  {
   "cell_type": "markdown",
   "metadata": {},
   "source": [
    "One way, to see how reliable is the regression model, is to plot the residuals against predicted values, and visually check if they are randomly distributed."
   ]
  },
  {
   "cell_type": "markdown",
   "metadata": {},
   "source": [
    "Residual = Observed – Predicted"
   ]
  },
  {
   "cell_type": "code",
   "execution_count": 56,
   "metadata": {},
   "outputs": [
    {
     "data": {
      "image/png": "[encoded data removed]",
      "text/plain": [
       "<Figure size 576x432 with 1 Axes>"
      ]
     },
     "metadata": {
      "needs_background": "light"
     },
     "output_type": "display_data"
    }
   ],
   "source": [
    "# Setting figure size\n",
    "plt.figure(figsize=(8, 6))\n",
    "\n",
    "# Calculating predicted values and assigning them to the df\n",
    "predicted = model.predict(X)\n",
    "\n",
    "# Calculating residuals (manual method, unnecessary as statsmodels provides model.resid)\n",
    "# residual = df.Avg_bet - predicted  # manual method\n",
    "\n",
    "# Plotting\n",
    "plt.scatter(predicted, model.resid, alpha=0.55,\n",
    "                 s=90, linewidth=0.6, edgecolors='black')\n",
    "\n",
    "# Removing top and right part of the frame\n",
    "plt.gca().spines['top'].set_visible(False)\n",
    "plt.gca().spines['right'].set_visible(False)\n",
    "\n",
    "# Setting axies labels\n",
    "plt.xlabel('Predicted / fitted values', fontsize=15)\n",
    "plt.ylabel('Residuals', fontsize=15)\n",
    "plt.title('Residuals vs Fitted values', fontsize=20)\n",
    "\n",
    "# Saving the figure\n",
    "plt.savefig('Residuals vs fitted values', dpi=600)"
   ]
  },
  {
   "cell_type": "markdown",
   "metadata": {},
   "source": [
    "There seems to be a chance of heteroscedasticity, therefore I will try to check for it formally via tests later on."
   ]
  },
  {
   "cell_type": "markdown",
   "metadata": {},
   "source": [
    "##### Distribution of residuals"
   ]
  },
  {
   "cell_type": "code",
   "execution_count": 57,
   "metadata": {},
   "outputs": [
    {
     "data": {
      "image/png": "[encoded data removed]",
      "text/plain": [
       "<Figure size 576x432 with 1 Axes>"
      ]
     },
     "metadata": {
      "needs_background": "light"
     },
     "output_type": "display_data"
    }
   ],
   "source": [
    "# Setting figure size\n",
    "plt.figure(figsize=(8, 6))\n",
    "\n",
    "# Plotting\n",
    "plt.hist(model.resid, color='navy', alpha=0.9, edgecolor='white')\n",
    "\n",
    "# Removing top and right part of the frame\n",
    "plt.gca().spines['top'].set_visible(False)\n",
    "plt.gca().spines['right'].set_visible(False)\n",
    "\n",
    "# Setting axies labels\n",
    "plt.xlabel('Residuals', fontsize=15)\n",
    "plt.ylabel('Count', fontsize=15)\n",
    "plt.title('Distribution of residuals', fontsize=20)\n",
    "\n",
    "# Saving the figure\n",
    "plt.savefig('Distribution (hist) of residuals.png', dpi=600)"
   ]
  },
  {
   "cell_type": "markdown",
   "metadata": {},
   "source": [
    "Residuals seem to be normaly distributed, which validates the model's normality assumption."
   ]
  },
  {
   "cell_type": "markdown",
   "metadata": {},
   "source": [
    "#### Heteroscedasticity"
   ]
  },
  {
   "cell_type": "code",
   "execution_count": 58,
   "metadata": {},
   "outputs": [
    {
     "data": {
      "text/plain": [
       "[('Lagrange Multiplier statistic:', 14.643625279316966),\n",
       " (\"LM test's p-value:\", 0.040848819921965096),\n",
       " ('F-statistic:', 2.3260933230675147),\n",
       " (\"F-test's p-value:\", 0.03488191532053086)]"
      ]
     },
     "execution_count": 58,
     "metadata": {},
     "output_type": "execute_result"
    }
   ],
   "source": [
    "# White's test for heteroscedasticity\n",
    "from statsmodels.stats.diagnostic import het_white\n",
    "from statsmodels.compat import lzip  # nicely formated print function\n",
    "\n",
    "keys1 = ['Lagrange Multiplier statistic:', 'LM test\\'s p-value:', 'F-statistic:', 'F-test\\'s p-value:']\n",
    "wtest = het_white(model.resid, model.model.exog)\n",
    "\n",
    "lzip(keys1, wtest)\n",
    "\n",
    "# Interpretation:\n",
    "# Heteroscedasticity if p-value is significant"
   ]
  },
  {
   "cell_type": "code",
   "execution_count": 59,
   "metadata": {},
   "outputs": [
    {
     "data": {
      "text/plain": [
       "[('Lagrange multiplier statistic', 12.891702169861484),\n",
       " ('p-value', 0.004876756119480082),\n",
       " ('f-value', 4.922512893413918),\n",
       " ('f p-value', 0.0036834454592528315)]"
      ]
     },
     "execution_count": 59,
     "metadata": {},
     "output_type": "execute_result"
    }
   ],
   "source": [
    "# Breush-Pagan test for heteroscedasticity:\n",
    "import statsmodels.stats.api as sms  # het_breuschpagan test\n",
    "\n",
    "keys2 = ['Lagrange multiplier statistic', 'p-value',\n",
    "        'f-value', 'f p-value']\n",
    "bp_test = sms.het_breuschpagan(model.resid, model.model.exog)\n",
    "lzip(keys2, bp_test)"
   ]
  },
  {
   "cell_type": "markdown",
   "metadata": {},
   "source": [
    "Both models detect heteroscedasticity, therefore Robust Standard Errors will be used."
   ]
  },
  {
   "cell_type": "markdown",
   "metadata": {},
   "source": [
    "#### Regression with robust standard errors"
   ]
  },
  {
   "cell_type": "code",
   "execution_count": 60,
   "metadata": {},
   "outputs": [
    {
     "name": "stdout",
     "output_type": "stream",
     "text": [
      "                            OLS Regression Results                            \n",
      "==============================================================================\n",
      "Dep. Variable:                Avg_bet   R-squared:                       0.312\n",
      "Model:                            OLS   Adj. R-squared:                  0.282\n",
      "Method:                 Least Squares   F-statistic:                     13.68\n",
      "Date:                Fri, 17 Apr 2020   Prob (F-statistic):           4.07e-07\n",
      "Time:                        10:17:03   Log-Likelihood:                -344.20\n",
      "No. Observations:                  74   AIC:                             696.4\n",
      "Df Residuals:                      70   BIC:                             705.6\n",
      "Df Model:                           3                                         \n",
      "Covariance Type:                  HC1                                         \n",
      "==============================================================================\n",
      "                 coef    std err          z      P>|z|      [0.025      0.975]\n",
      "------------------------------------------------------------------------------\n",
      "const        199.5702     53.834      3.707      0.000      94.058     305.082\n",
      "female       -30.4368      5.322     -5.719      0.000     -40.868     -20.005\n",
      "dutch         -6.1293      6.334     -0.968      0.333     -18.544       6.285\n",
      "Age           -6.2396      2.361     -2.643      0.008     -10.867      -1.612\n",
      "==============================================================================\n",
      "Omnibus:                        1.188   Durbin-Watson:                   1.841\n",
      "Prob(Omnibus):                  0.552   Jarque-Bera (JB):                1.253\n",
      "Skew:                           0.248   Prob(JB):                        0.534\n",
      "Kurtosis:                       2.599   Cond. No.                         343.\n",
      "==============================================================================\n",
      "\n",
      "Warnings:\n",
      "[1] Standard Errors are heteroscedasticity robust (HC1)\n"
     ]
    }
   ],
   "source": [
    "# Regression variables\n",
    "X = df[['female', 'dutch', 'Age']]\n",
    "Y = df['Avg_bet']\n",
    "\n",
    "# Running the regression\n",
    "X = sm.add_constant(X)  # add an intercept (beta_0) to our model\n",
    "robust_model = sm.OLS(Y, X).fit(cov_type=\"HC1\")  # cov_type=\"HC1\" makes the regression model robust\n",
    "\n",
    "# Print out the regression output\n",
    "print(robust_model.summary())"
   ]
  },
  {
   "cell_type": "markdown",
   "metadata": {},
   "source": [
    "##### Interpreting the results"
   ]
  },
  {
   "cell_type": "markdown",
   "metadata": {},
   "source": [
    "I find that Gender and Age are both statistically significant and therefore reject the age and gender null hypotheses, which give support to the alternative hypotheses which state that older students and women are more risk-averse and  will choose to bet more. In terms of nationality, we find that it is statistically insignificant with a p-value of 0.33, therefore we fail to reject the null hypothesis stating that nationality (being Dutch, versus being foreign) has no effect on risk-taking behaviour."
   ]
  },
  {
   "cell_type": "markdown",
   "metadata": {},
   "source": [
    "## Conclusion"
   ]
  },
  {
   "cell_type": "markdown",
   "metadata": {},
   "source": [
    "Maybe it is not the question whether either of the groups were more risk taking & adventurous, but rather how seriously they took the thought experiment. Perhaps if the outcomes were more realistic – by having a real world impact on individual’s well-being, maybe then we would see different results. This is one of the issues that behavioural scientists encounter in the experimental design of the tests. \n",
    "\n",
    "Even though the predictive ability is questionable due to the sample size, data collection methods, and a sample bias, due to a group of people that should be more financially literate than other field students, nonetheless, it is a fun (and at least descriptive) analysis of the student risk-taking behaviour.\n"
   ]
  }
 ],
 "metadata": {
  "kernelspec": {
   "display_name": "Python 3",
   "language": "python",
   "name": "python3"
  },
  "language_info": {
   "codemirror_mode": {
    "name": "ipython",
    "version": 3
   },
   "file_extension": ".py",
   "mimetype": "text/x-python",
   "name": "python",
   "nbconvert_exporter": "python",
   "pygments_lexer": "ipython3",
   "version": "3.6.8"
  },
  "toc-autonumbering": true,
  "toc-showcode": false,
  "toc-showmarkdowntxt": false
 },
 "nbformat": 4,
 "nbformat_minor": 4
}
